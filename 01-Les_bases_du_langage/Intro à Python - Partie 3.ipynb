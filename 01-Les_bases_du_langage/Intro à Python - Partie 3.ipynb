{
 "cells": [
  {
   "cell_type": "markdown",
   "metadata": {},
   "source": [
    "# Introduction à Python -- Partie 3: Modules et librairies\n",
    "\n",
    "Matériel de cours rédigé par Pascal Germain, 2018\n",
    "\n",
    "*********************"
   ]
  },
  {
   "cell_type": "markdown",
   "metadata": {},
   "source": [
    "## Le module `math`"
   ]
  },
  {
   "cell_type": "code",
   "execution_count": null,
   "metadata": {},
   "outputs": [],
   "source": [
    "import math"
   ]
  },
  {
   "cell_type": "code",
   "execution_count": null,
   "metadata": {},
   "outputs": [],
   "source": [
    "math.sqrt(10)"
   ]
  },
  {
   "cell_type": "code",
   "execution_count": null,
   "metadata": {},
   "outputs": [],
   "source": [
    "math.exp(10)"
   ]
  },
  {
   "cell_type": "code",
   "execution_count": null,
   "metadata": {},
   "outputs": [],
   "source": [
    "math.log?"
   ]
  },
  {
   "cell_type": "code",
   "execution_count": null,
   "metadata": {},
   "outputs": [],
   "source": [
    "math.log(100, 10)"
   ]
  },
  {
   "cell_type": "code",
   "execution_count": null,
   "metadata": {},
   "outputs": [],
   "source": [
    "math.pi"
   ]
  },
  {
   "cell_type": "code",
   "execution_count": null,
   "metadata": {},
   "outputs": [],
   "source": [
    "math.e"
   ]
  },
  {
   "cell_type": "code",
   "execution_count": null,
   "metadata": {},
   "outputs": [],
   "source": [
    "math."
   ]
  },
  {
   "cell_type": "code",
   "execution_count": null,
   "metadata": {},
   "outputs": [],
   "source": [
    "from math import sqrt, exp, log, pi"
   ]
  },
  {
   "cell_type": "code",
   "execution_count": null,
   "metadata": {},
   "outputs": [],
   "source": [
    "sqrt(exp(log(pi**2)))"
   ]
  },
  {
   "cell_type": "code",
   "execution_count": null,
   "metadata": {},
   "outputs": [],
   "source": [
    "pi=22/7\n",
    "print(pi)"
   ]
  },
  {
   "cell_type": "code",
   "execution_count": null,
   "metadata": {},
   "outputs": [],
   "source": [
    "from math import pi as rapport_circonference_diametre\n",
    "\n",
    "rapport_circonference_diametre"
   ]
  },
  {
   "cell_type": "markdown",
   "metadata": {},
   "source": [
    "## La librairie `matplotlib` et son module `pyplot`"
   ]
  },
  {
   "cell_type": "markdown",
   "metadata": {},
   "source": [
    "Une *librairie* est une collection de *modules*. Par exemple, la liste de tous les modules de la librairie `matplotlib` peut être consultée ici: \n",
    "\n",
    "https://matplotlib.org/py-modindex.html\n",
    "\n",
    "Cela étant dit, nous utiliserons typiquement les modules de `matplotlib` par l'intermédiaire d'un seul, `pyplot`, qui permet de créer et d'afficher des graphiques en mode interactif."
   ]
  },
  {
   "cell_type": "code",
   "execution_count": null,
   "metadata": {},
   "outputs": [],
   "source": [
    "from matplotlib import pyplot"
   ]
  },
  {
   "cell_type": "code",
   "execution_count": null,
   "metadata": {},
   "outputs": [],
   "source": [
    "valeurs_x = range(1, 100)\n",
    "valeurs_y = [sqrt(x) for x in valeurs_x]\n",
    "pyplot.plot(valeurs_x, valeurs_y)"
   ]
  },
  {
   "cell_type": "markdown",
   "metadata": {},
   "source": [
    "Une convention répendue est d'importer le module `pyplot` en utilisant l'abréviation `plt`."
   ]
  },
  {
   "cell_type": "code",
   "execution_count": null,
   "metadata": {},
   "outputs": [],
   "source": [
    "from matplotlib import pyplot as plt\n",
    "\n",
    "# De manière équivalente, on pourrait écrire: \n",
    "# import matplotlib.pyplot as plt"
   ]
  },
  {
   "cell_type": "markdown",
   "metadata": {},
   "source": [
    "Dans une cellule de code Jupyter, on peut regroupper plusieurs appels à `pyplot` pour modifier les propriétés d'un graphique ou superposer plusieurs courbes."
   ]
  },
  {
   "cell_type": "code",
   "execution_count": null,
   "metadata": {},
   "outputs": [],
   "source": [
    "plt.figure(figsize=(16, 4))\n",
    "valeurs_x = range(1, 100)\n",
    "\n",
    "plt.scatter(valeurs_x, valeurs_y, label='racine carré')\n",
    "plt.scatter(valeurs_x, [log(x) for x in valeurs_x], label='logarithme')\n",
    "plt.legend();"
   ]
  },
  {
   "cell_type": "markdown",
   "metadata": {},
   "source": [
    "Le module `pyplot` permet de créer une grande variété de graphiques. Plusieurs exemples sont illustrés ici:\n",
    "\n",
    "https://matplotlib.org/2.2.3/gallery/index.html#pyplots-examples"
   ]
  },
  {
   "cell_type": "markdown",
   "metadata": {},
   "source": [
    "## Création de son propre module"
   ]
  },
  {
   "cell_type": "markdown",
   "metadata": {},
   "source": [
    "Pour créer son propre module, il suffit de créer un fichier du nom du module désiré, suivit de l'extension `.py`, dans notre répertoire de travail. Ce fichier contiendra toutes les classes ou fonctions du module. \n",
    "\n",
    "Par exemple, si vous créer un fichier nommé `algebre_maison.py` dans le même répertoire que le présent \"notebook\", puis que vous y copier le code de la classe `vecteur` contenu dans le \"notebook\" précédent, vous pourrez exécuter le code suivant."
   ]
  },
  {
   "cell_type": "code",
   "execution_count": null,
   "metadata": {},
   "outputs": [],
   "source": [
    "from algebre_maison import vecteur"
   ]
  },
  {
   "cell_type": "code",
   "execution_count": null,
   "metadata": {},
   "outputs": [],
   "source": [
    "vecteur?"
   ]
  },
  {
   "cell_type": "code",
   "execution_count": null,
   "metadata": {},
   "outputs": [],
   "source": [
    "vec = vecteur(5, 2)"
   ]
  },
  {
   "cell_type": "code",
   "execution_count": null,
   "metadata": {},
   "outputs": [],
   "source": [
    "vec.elements"
   ]
  },
  {
   "cell_type": "code",
   "execution_count": null,
   "metadata": {},
   "outputs": [],
   "source": [
    "type(vec)"
   ]
  },
  {
   "cell_type": "markdown",
   "metadata": {},
   "source": [
    "*********\n",
    "# Exercices"
   ]
  },
  {
   "cell_type": "markdown",
   "metadata": {},
   "source": [
    "### Préambule\n",
    "\n",
    "J'ai créé la fonction `proba_somme_des` ci-bas, permettant de calculer la probabilité que la somme de `nb_des`, chacun possédant `nb_faces`, soit égale à un certain nombre. La fonction retourne une liste contenant les probabilités pour tous les résultats possibles, de $0$ à `nb_faces`$\\times$`nb_des`. \n",
    "\n",
    "Le calcul est basé sur la méthode de *convolution* expliquée au bas de cette page wikipédia:\n",
    "https://fr.wikipedia.org/wiki/Probabilit%C3%A9s_des_d%C3%A9s\n",
    "\n",
    "Je vous demande d'abord de bien lire la fonction, afin de comprendre la logique sous-jacente. J'ai volontairement utilisé quelques astuces qui n'ont pas été utilisés dans ce tutoriel."
   ]
  },
  {
   "cell_type": "code",
   "execution_count": null,
   "metadata": {},
   "outputs": [],
   "source": [
    "def proba_somme_des(nb_des, nb_faces):\n",
    "    valeur_maximum = nb_faces * nb_des\n",
    "    proba_par_face = 1 / nb_faces\n",
    "    \n",
    "    proba_par_valeur = [0.0] * (valeur_maximum + 1)\n",
    "    proba_par_valeur[1:nb_faces+1] = [proba_par_face] * nb_faces\n",
    "    \n",
    "    for i in range(1, nb_des):\n",
    "        for j in range(valeur_maximum, 0, -1):\n",
    "            proba_par_valeur[j] = 0\n",
    "            for k in range(1, nb_faces+1):\n",
    "                if j-k > 0:\n",
    "                    proba_par_valeur[j] +=  proba_par_face * proba_par_valeur[j-k]\n",
    "    \n",
    "    return proba_par_valeur"
   ]
  },
  {
   "cell_type": "markdown",
   "metadata": {},
   "source": [
    "Le code suivant utilise la fonction `proba_somme_des` afin de calculer la probabilité d'obtenir chacun des nombres de 0 à 12 en additionnt le résultat de 2 dés à 6 faces. Exécutez-le. Remarquez comment on arrive à inclure le contenu de variables ou des résultats de calcul en ajoutant la lettre `f` avant la chaîne de caractères."
   ]
  },
  {
   "cell_type": "code",
   "execution_count": null,
   "metadata": {},
   "outputs": [],
   "source": [
    "proba_2d6 = proba_somme_des(2, 6)\n",
    "for i in range(2, 2*6+1):\n",
    "    print(f\"Probabilité d'obtenir une somme de {i} sur 2d6: {100*proba_2d6[i]:.1f} %\")"
   ]
  },
  {
   "cell_type": "markdown",
   "metadata": {},
   "source": [
    "Maintenant, illustrons ce résultat sur un graphique."
   ]
  },
  {
   "cell_type": "code",
   "execution_count": null,
   "metadata": {},
   "outputs": [],
   "source": [
    "from matplotlib import pyplot as plt\n",
    "plt.plot(range(2, 13), proba_2d6[2:], 'o-', label=\"1d6\")\n",
    "plt.legend()\n",
    "plt.xlim(0,30)\n",
    "plt.ylim(0, 0.20)"
   ]
  },
  {
   "cell_type": "markdown",
   "metadata": {},
   "source": [
    "### Exercice 1.1\n",
    "\n",
    "En réutilisant les code du **préambule** ci-haut, illustrez sur un même graphique les probabilités associées aux sommes de 1, 2, 3, 4 et 5 dés 6. Autrement dit, reproduisez un résultat similaire à la figure intitulée «**Probabilité d'avoir une valeur**» se trouvant à droite de [la page wikipédia citée plus haut](https://fr.wikipedia.org/wiki/Probabilit%C3%A9s_des_d%C3%A9s)."
   ]
  },
  {
   "cell_type": "code",
   "execution_count": null,
   "metadata": {},
   "outputs": [],
   "source": []
  },
  {
   "cell_type": "markdown",
   "metadata": {},
   "source": [
    "### Exercice 1.2\n",
    "\n",
    "Reproduisez un résultat similaire à la figure intitulée «**Probabilité de faire moins qu'une valeur**» se trouvant à droite de [la page wikipédia citée plus haut](https://fr.wikipedia.org/wiki/Probabilit%C3%A9s_des_d%C3%A9s)."
   ]
  },
  {
   "cell_type": "code",
   "execution_count": null,
   "metadata": {},
   "outputs": [],
   "source": []
  },
  {
   "cell_type": "markdown",
   "metadata": {},
   "source": [
    "### Exercice 2\n",
    "\n",
    "Importez la fonction `randint` du module `random`, qui permet de générer un nombre entier aléatoirement. Écrivez ensuite une fonction `lancer_des`, repectant le format ci-dessus, qui simule un lancer de dés et qui retourne la somme des résultats obtenus."
   ]
  },
  {
   "cell_type": "code",
   "execution_count": null,
   "metadata": {},
   "outputs": [],
   "source": [
    "def lancer_des(nb_des, nb_faces)\n",
    "    somme = 0\n",
    "    \n",
    "    # Complétez...\n",
    "    \n",
    "    return somme"
   ]
  },
  {
   "cell_type": "markdown",
   "metadata": {},
   "source": [
    "Complétez la fonction `estimer_proba_somme_des`, qui doit effectuer `nb_repetitions` appels à la  fonction `lancer_des` afin d'estimer empiriquement la probabilité d'obtenir une somme de dés de donnée. Un appel à la fonction `estimer_proba_somme_des` fournira un estimé des probabilités obtenues par la fonction `proba_somme_des`."
   ]
  },
  {
   "cell_type": "code",
   "execution_count": null,
   "metadata": {},
   "outputs": [],
   "source": [
    "def estimer_proba_somme_des(nb_des, nb_faces, nb_repetitions=100):\n",
    "    valeur_maximum = nb_faces * nb_des   \n",
    "    proba_par_valeur = [0.0] * (valeur_maximum + 1)\n",
    "    \n",
    "    # Complétez...\n",
    "    \n",
    "    return proba_par_valeur"
   ]
  },
  {
   "cell_type": "markdown",
   "metadata": {},
   "source": [
    "Reproduisez les deux graphiques produits aux exercices 1.1 et 1.2, mais cette fois-ci en utilsisant la fonction `estimer_proba_somme_des` plutôt que `proba_somme_des`. Comparer les résultats obtenus pour:\n",
    "* 10 répétitions\n",
    "* 100 répétitions\n",
    "* 1000 répétitions\n",
    "* 10000 répétitions\n",
    "* ..."
   ]
  },
  {
   "cell_type": "code",
   "execution_count": null,
   "metadata": {},
   "outputs": [],
   "source": []
  }
 ],
 "metadata": {
  "kernelspec": {
   "display_name": "Python 3",
   "language": "python",
   "name": "python3"
  },
  "language_info": {
   "codemirror_mode": {
    "name": "ipython",
    "version": 3
   },
   "file_extension": ".py",
   "mimetype": "text/x-python",
   "name": "python",
   "nbconvert_exporter": "python",
   "pygments_lexer": "ipython3",
   "version": "3.6.6"
  }
 },
 "nbformat": 4,
 "nbformat_minor": 2
}
