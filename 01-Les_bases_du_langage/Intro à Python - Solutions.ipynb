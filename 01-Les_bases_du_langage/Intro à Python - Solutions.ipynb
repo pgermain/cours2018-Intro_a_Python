{
 "cells": [
  {
   "cell_type": "markdown",
   "metadata": {},
   "source": [
    "# Introduction à Python  --  Solutions aux exercices\n",
    "\n",
    "Matériel de cours rédigé par Pascal Germain, 2018\n",
    "\n",
    "\n",
    "*********************"
   ]
  },
  {
   "cell_type": "markdown",
   "metadata": {},
   "source": [
    "## Partie 1"
   ]
  },
  {
   "cell_type": "code",
   "execution_count": null,
   "metadata": {},
   "outputs": [],
   "source": [
    "# SOLUTION PARTIE 1 - EXERCICE 1\n",
    "vecteur_v = [2, 5, 3, 5, 1] \n",
    "\n",
    "somme = 0.\n",
    "for x in vecteur_v:\n",
    "    somme += x ** 2\n",
    "    \n",
    "somme ** 0.5"
   ]
  },
  {
   "cell_type": "code",
   "execution_count": null,
   "metadata": {},
   "outputs": [],
   "source": [
    "vecteur_u = [1, 3, 3, 2, 8]\n",
    "vecteur_v = [2, 5, 3, 5, 1]\n",
    "list(zip(vecteur_u, vecteur_v))"
   ]
  },
  {
   "cell_type": "code",
   "execution_count": null,
   "metadata": {},
   "outputs": [],
   "source": [
    "# SOLUTION PARTIE 1 - EXERCICE 2\n",
    "vecteur_u = [1, 3, 3, 2, 8]\n",
    "vecteur_v = [2, 5, 3, 5, 1]\n",
    "\n",
    "somme = 0\n",
    "for x, y in zip(vecteur_u, vecteur_v):\n",
    "    somme += x * y\n",
    "    \n",
    "somme"
   ]
  },
  {
   "cell_type": "code",
   "execution_count": null,
   "metadata": {},
   "outputs": [],
   "source": [
    "# SOLUTION PARTIE 1 - EXERCICE 3\n",
    "matrice_M = [[1, 3, 3, 2, 8], [2, 5, 3, 5, 1] , [1, 2, 3, 2, 1]]\n",
    "\n",
    "print('Matrice M:')\n",
    "for ligne in matrice_M:\n",
    "    print(ligne)\n",
    "    \n",
    "matrice_M_T = [] \n",
    "nb_lignes = len(matrice_M)\n",
    "nb_colonnes = len(matrice_M[0])\n",
    "\n",
    "for i in range(nb_colonnes):\n",
    "    ligne = [0]*nb_lignes\n",
    "    for j in range(nb_lignes):\n",
    "        ligne[j] = matrice_M[j][i]\n",
    "    matrice_M_T.append(ligne)\n",
    "\n",
    "print('---------------------------')\n",
    "print('Transposée de la matrice M:')\n",
    "for ligne in matrice_M_T:\n",
    "    print(ligne)"
   ]
  },
  {
   "cell_type": "markdown",
   "metadata": {},
   "source": [
    "## Partie 2"
   ]
  },
  {
   "cell_type": "code",
   "execution_count": null,
   "metadata": {},
   "outputs": [],
   "source": [
    "# SOLUTION PARTIE 2 - EXERCICE 1\n",
    "class matrice:\n",
    "    def __init__(self, nb_lignes, nb_colonnes, valeur_initiale=0):\n",
    "        self.nb_lignes = nb_lignes\n",
    "        self.nb_colonnes = nb_colonnes\n",
    "        self.elements = []\n",
    "        for i in range(nb_lignes):\n",
    "            self.elements.append([valeur_initiale] * nb_colonnes)\n",
    "            \n",
    "    def afficher(self):\n",
    "        for ligne in self.elements:\n",
    "            print(ligne)\n",
    "            \n",
    "    def copie(self):\n",
    "        nouveau = matrice(self.nb_lignes, self.nb_colonnes)\n",
    "        for i in range(self.nb_lignes):\n",
    "            nouveau.elements[i] = self.elements\n",
    "        return nouveau\n",
    "    \n",
    "    def acces(self, index_i, index_j):\n",
    "        return self.elements[index_i][index_j]\n",
    "    \n",
    "    def modif(self, index_i, index_j, valeur):\n",
    "        self.elements[index_i][index_j] = valeur\n",
    "    \n",
    "    def addition(self, valeur):\n",
    "        for i in range(self.nb_lignes):\n",
    "            for j in range(self.nb_colonnes):\n",
    "                self.elements[i][j] += valeur"
   ]
  },
  {
   "cell_type": "code",
   "execution_count": null,
   "metadata": {},
   "outputs": [],
   "source": [
    "# SOLUTION PARTIE 2 - EXERCICE 2\n",
    "def produit_matriciel(matrice_A, matrice_B):\n",
    "    assert matrice_A.nb_colonnes == matrice_B.nb_lignes, 'les matrices ne sont pas de bonnes dimensions'\n",
    "    matrice_C = matrice(matrice_A.nb_lignes, matrice_B.nb_colonnes)\n",
    "    \n",
    "    for i in range(matrice_C.nb_lignes):\n",
    "        for j in range(matrice_C.nb_colonnes):\n",
    "            for k in range(matrice_A.nb_colonnes):\n",
    "                matrice_C.elements[i][j] += matrice_A.acces(i, k) * matrice_B.acces(k, j)\n",
    "    \n",
    "    return matrice_C"
   ]
  },
  {
   "cell_type": "markdown",
   "metadata": {},
   "source": [
    "## Partie 3"
   ]
  },
  {
   "cell_type": "code",
   "execution_count": null,
   "metadata": {},
   "outputs": [],
   "source": [
    "%matplotlib inline\n",
    "from matplotlib import pyplot as plt\n",
    "\n",
    "def proba_somme_des(nb_des, nb_faces):\n",
    "    valeur_maximum = nb_faces * nb_des\n",
    "    proba_par_face = 1 / nb_faces\n",
    "    \n",
    "    proba_par_valeur = [0.0] * (valeur_maximum + 1)\n",
    "    proba_par_valeur[1:nb_faces+1] = [proba_par_face] * nb_faces\n",
    "    \n",
    "    for i in range(1, nb_des):\n",
    "        for j in range(valeur_maximum, 0, -1):\n",
    "            proba_par_valeur[j] = 0\n",
    "            for k in range(1, nb_faces+1):\n",
    "                if j-k > 0:\n",
    "                    proba_par_valeur[j] +=  proba_par_face * proba_par_valeur[j-k]\n",
    "    \n",
    "    return proba_par_valeur"
   ]
  },
  {
   "cell_type": "code",
   "execution_count": null,
   "metadata": {},
   "outputs": [],
   "source": [
    "# SOLUTION PARTIE 3 - EXERCICE 1.1\n",
    "for i in range(1,6):\n",
    "    plt.plot(range(i, i*6+1), proba_somme_des(i, 6)[i:], 'o-', label=f\"{i}d6\")\n",
    "    \n",
    "plt.legend()"
   ]
  },
  {
   "cell_type": "code",
   "execution_count": null,
   "metadata": {},
   "outputs": [],
   "source": [
    "# SOLUTION PARTIE 3 - EXERCICE 1.2\n",
    "for i in range(1,6):\n",
    "    somme = 0.\n",
    "    proba = proba_somme_des(i, 6)\n",
    "    for j in range(1,len(proba)):\n",
    "        proba[j] += proba[j-1]\n",
    "    plt.plot(range(i, i*6+1), proba[i:], 'o-', label=f\"{i}d6\")\n",
    "    \n",
    "plt.legend()"
   ]
  },
  {
   "cell_type": "code",
   "execution_count": null,
   "metadata": {},
   "outputs": [],
   "source": [
    "# SOLUTION PARTIE 3 - EXERCICE 1.3\n",
    "from random import randint\n",
    "randint?"
   ]
  },
  {
   "cell_type": "code",
   "execution_count": null,
   "metadata": {},
   "outputs": [],
   "source": [
    "def lancer_des(nb_des, nb_faces):\n",
    "    somme = 0\n",
    "    \n",
    "    for i in range(nb_des):\n",
    "        somme += randint(1, nb_faces)\n",
    "    \n",
    "    return somme"
   ]
  },
  {
   "cell_type": "code",
   "execution_count": null,
   "metadata": {},
   "outputs": [],
   "source": [
    "def estimer_proba_somme_des(nb_des, nb_faces, nb_repetitions=100):\n",
    "    valeur_maximum = nb_faces * nb_des   \n",
    "    proba_par_valeur = [0.0] * (valeur_maximum + 1)\n",
    "    \n",
    "    fraction = 1./nb_repetitions\n",
    "    for i in range(nb_repetitions):\n",
    "        valeur = lancer_des(nb_des, nb_faces)\n",
    "        proba_par_valeur[valeur] += fraction\n",
    "    \n",
    "    return proba_par_valeur"
   ]
  },
  {
   "cell_type": "code",
   "execution_count": null,
   "metadata": {},
   "outputs": [],
   "source": [
    "nb_repetitions = 100\n",
    "for i in range(1,6):\n",
    "    plt.plot(range(i, i*6+1), estimer_proba_somme_des(i, 6, nb_repetitions)[i:], 'o-', label=f\"{i}d6\")\n",
    "    \n",
    "plt.legend()"
   ]
  },
  {
   "cell_type": "code",
   "execution_count": null,
   "metadata": {},
   "outputs": [],
   "source": [
    "nb_repetitions = 100\n",
    "for i in range(1,6):\n",
    "    proba = estimer_proba_somme_des(i, 6, nb_repetitions)[i:]\n",
    "    for j in range(1,len(proba)):\n",
    "        proba[j] += proba[j-1]\n",
    "    \n",
    "    plt.plot(range(i, i*6+1), proba, 'o-', label=f\"{i}d6\")    \n",
    "    \n",
    "plt.legend()"
   ]
  }
 ],
 "metadata": {
  "kernelspec": {
   "display_name": "Python 3",
   "language": "python",
   "name": "python3"
  },
  "language_info": {
   "codemirror_mode": {
    "name": "ipython",
    "version": 3
   },
   "file_extension": ".py",
   "mimetype": "text/x-python",
   "name": "python",
   "nbconvert_exporter": "python",
   "pygments_lexer": "ipython3",
   "version": "3.6.6"
  }
 },
 "nbformat": 4,
 "nbformat_minor": 2
}
