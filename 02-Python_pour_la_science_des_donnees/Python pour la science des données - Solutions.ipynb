{
 "cells": [
  {
   "cell_type": "markdown",
   "metadata": {},
   "source": [
    "# Python pour la science des données -- Solutions aux exercices\n",
    "\n",
    "Matériel de cours rédigé par Pascal Germain, 2018\n",
    "\n",
    "*********************"
   ]
  },
  {
   "cell_type": "markdown",
   "metadata": {},
   "source": [
    "## Partie 1"
   ]
  },
  {
   "cell_type": "code",
   "execution_count": null,
   "metadata": {},
   "outputs": [],
   "source": [
    "# SOLUTION PARTIE 1 - EXERCICE 1\n",
    "def moindre_carrés(x, y):\n",
    "    solution = inv(x.T @ x) @ x.T @ y\n",
    "    return solution"
   ]
  },
  {
   "cell_type": "code",
   "execution_count": null,
   "metadata": {},
   "outputs": [],
   "source": [
    "# SOLUTION PARTIE 1 - EXERCICE 2\n",
    "def moindre_carrés_regularisee(x, y, rho=1):\n",
    "    dim = x.shape[1]\n",
    "    solution = inv(x.T @ x + rho * np.eye(dim)) @ x.T @ y\n",
    "    return solution"
   ]
  },
  {
   "cell_type": "markdown",
   "metadata": {},
   "source": [
    "## Partie 2\n",
    "Voici un exemple de prédicteur parmi les plus efficaces que j'ai découvert sur le jeu de données de l'exercice. Il y a plusieurs autres solutions possibles.\n",
    "\n",
    "**NB :** L'algorithme des forêts aléatoires (ou *Random Forests*) est un algorithme stochastique. La précision de prédicteur variera si vous l'exécuter plusieurs fois. J'ai observé une précision sur l'ensemble test variant de $72\\%$ à $75\\%$."
   ]
  },
  {
   "cell_type": "code",
   "execution_count": null,
   "metadata": {},
   "outputs": [],
   "source": [
    "from sklearn.ensemble import RandomForestClassifier\n",
    "\n",
    "predicteur = RandomForestClassifier(n_estimators=100)\n",
    "predicteur.fit(train_x, train_y)\n",
    "\n",
    "train_pred = predicteur.predict(train_x)\n",
    "test_pred = predicteur.predict(test_x)\n",
    "\n",
    "print('Précision train:', accuracy_score(train_y, train_pred) )\n",
    "print('Précision test :', accuracy_score(test_y, test_pred))"
   ]
  }
 ],
 "metadata": {
  "kernelspec": {
   "display_name": "Python 3",
   "language": "python",
   "name": "python3"
  },
  "language_info": {
   "codemirror_mode": {
    "name": "ipython",
    "version": 3
   },
   "file_extension": ".py",
   "mimetype": "text/x-python",
   "name": "python",
   "nbconvert_exporter": "python",
   "pygments_lexer": "ipython3",
   "version": "3.6.6"
  }
 },
 "nbformat": 4,
 "nbformat_minor": 2
}
