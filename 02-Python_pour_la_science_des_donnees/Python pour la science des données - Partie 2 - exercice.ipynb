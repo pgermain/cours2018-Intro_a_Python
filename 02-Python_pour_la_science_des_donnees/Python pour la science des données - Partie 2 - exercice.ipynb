{
 "cells": [
  {
   "cell_type": "markdown",
   "metadata": {},
   "source": [
    "# Python pour la science des données -- Partie 2: La librairie scikit-learn\n",
    "\n",
    "Matériel de cours rédigé par Pascal Germain, 2018\n",
    "*********************"
   ]
  },
  {
   "cell_type": "code",
   "execution_count": null,
   "metadata": {},
   "outputs": [],
   "source": [
    "import numpy as np\n",
    "from matplotlib import pyplot as plt"
   ]
  },
  {
   "cell_type": "markdown",
   "metadata": {},
   "source": [
    "## Exercice\n",
    "\n",
    "Cet exercice vise à vous donner l'occasion d'explorer les fonctionalités de la librairie `scikit-learn` par vous-même. \n",
    "\n",
    "Nous travaillerons à classifier un sous-ensemble de l'ensemble **CIFAR-10** (l'ensemble complet se trouve [ici](http://www.cs.toronto.edu/~kriz/cifar.html)). Ce sous-ensemble contient des images d'oiseaux et des images d'avions. Télécharger d'abord ces données à partir du lien suivant:\n",
    "\n",
    "https://drive.google.com/drive/folders/1SW6Q9x4QOVcOZ57THpc2sM5ZsdCMMjyV?usp=sharing\n",
    "\n",
    "Indiquez le (sous-)répertoire où se trouvent les fichiers sur votre ordinateur à l'aide de la variable suivante."
   ]
  },
  {
   "cell_type": "code",
   "execution_count": null,
   "metadata": {},
   "outputs": [],
   "source": [
    "repertoire_cifar = 'cifar/' # Modifier le répertoire au besoin"
   ]
  },
  {
   "cell_type": "markdown",
   "metadata": {},
   "source": [
    "Chargeons les données en mémoire."
   ]
  },
  {
   "cell_type": "code",
   "execution_count": null,
   "metadata": {},
   "outputs": [],
   "source": [
    "data_x = np.loadtxt(repertoire_cifar + 'planes_vs_birds.data.gz')\n",
    "data_y = np.loadtxt(repertoire_cifar + 'planes_vs_birds.labels')\n",
    "print('data_x:', data_x.shape)\n",
    "print('data_y:', data_y.shape)"
   ]
  },
  {
   "cell_type": "markdown",
   "metadata": {},
   "source": [
    "Chaque élément de l'ensemble est un vecteur de niveau de gris (encodés par des entiers $0$ à $255$) de taille $1024$. Ceci correspond à une image de taille $32\\times 32$ pixels. Notez que les images de l'ensemble *CIFAR-10* sont originellement en couleur, nous les avons convertis en niveau de gris pour cet exercice."
   ]
  },
  {
   "cell_type": "code",
   "execution_count": null,
   "metadata": {},
   "outputs": [],
   "source": [
    "data_x[0,:]"
   ]
  },
  {
   "cell_type": "markdown",
   "metadata": {},
   "source": [
    "Les images d'avions sont étiquettées `0` et les images d'oiseaux sont étiquettées `1`."
   ]
  },
  {
   "cell_type": "code",
   "execution_count": null,
   "metadata": {},
   "outputs": [],
   "source": [
    "data_y[0:100]"
   ]
  },
  {
   "cell_type": "code",
   "execution_count": null,
   "metadata": {
    "scrolled": true
   },
   "outputs": [],
   "source": [
    "i = 0\n",
    "image = data_x[i].reshape(32,32)\n",
    "plt.imshow(image, cmap=plt.cm.gray)\n",
    "plt.colorbar()"
   ]
  },
  {
   "cell_type": "markdown",
   "metadata": {},
   "source": [
    "Séparons les données en un ensemble d'apprentissage et un ensemble de test (1000 images chacun)."
   ]
  },
  {
   "cell_type": "code",
   "execution_count": null,
   "metadata": {},
   "outputs": [],
   "source": [
    "from sklearn.model_selection import train_test_split\n",
    "train_x, test_x, train_y, test_y = train_test_split(data_x, data_y, test_size=1000, random_state=42)\n",
    "print('train_x:', train_x.shape)\n",
    "print('test_x:', test_x.shape)\n",
    "print('train_y:', train_y.shape)\n",
    "print('test_y:', test_y.shape)"
   ]
  },
  {
   "cell_type": "markdown",
   "metadata": {},
   "source": [
    "Exécutons un premier algorithme d'apprentissage: la régression logistique, en utilisant les paramètres par défaut."
   ]
  },
  {
   "cell_type": "code",
   "execution_count": null,
   "metadata": {},
   "outputs": [],
   "source": [
    "from sklearn.linear_model import LogisticRegression\n",
    "from sklearn.metrics import accuracy_score\n",
    "\n",
    "predicteur = LogisticRegression()\n",
    "predicteur.fit(train_x, train_y)\n",
    "train_pred = predicteur.predict(train_x)\n",
    "test_pred = predicteur.predict(test_x)\n",
    "print('Précision train:', accuracy_score(train_y, train_pred))\n",
    "print('Précision test :', accuracy_score(test_y, test_pred))"
   ]
  },
  {
   "cell_type": "markdown",
   "metadata": {},
   "source": [
    "Ouf, ce prédicteur est à peine mieux qu'un prédicteur aléatoire. Autrement dit, tirer à pile ou face pour prédire si chaque image représente un oiseau ou un avion serait une méthode presque aussi précise!"
   ]
  },
  {
   "cell_type": "markdown",
   "metadata": {},
   "source": [
    "## À vous de jouer...\n",
    "\n",
    "On vous demande d'utiliser les outils de `scikit-learn` (algorithmes d'apprentissage, pré-traitement des données, outils de sélection de modèles, ...) pour améliorer, au meilleurs de votre capacité, la précision de prédiction sur l'ensemble test.\n",
    "\n",
    "Libre à vous d'utiliser les algorithmes et méthodes que nous n'avons pas couvert jusqu'à maintenant (vous y êtes mêmes encouragés). N'hésitez pas à consulter la documentation, les tutoriels et exemples de code qui abondent sur le site de *scikit-learn*: http://scikit-learn.org"
   ]
  },
  {
   "cell_type": "code",
   "execution_count": null,
   "metadata": {},
   "outputs": [],
   "source": []
  },
  {
   "cell_type": "code",
   "execution_count": null,
   "metadata": {},
   "outputs": [],
   "source": []
  },
  {
   "cell_type": "code",
   "execution_count": null,
   "metadata": {},
   "outputs": [],
   "source": []
  },
  {
   "cell_type": "code",
   "execution_count": null,
   "metadata": {},
   "outputs": [],
   "source": []
  }
 ],
 "metadata": {
  "kernelspec": {
   "display_name": "Python 3",
   "language": "python",
   "name": "python3"
  },
  "language_info": {
   "codemirror_mode": {
    "name": "ipython",
    "version": 3
   },
   "file_extension": ".py",
   "mimetype": "text/x-python",
   "name": "python",
   "nbconvert_exporter": "python",
   "pygments_lexer": "ipython3",
   "version": "3.6.6"
  }
 },
 "nbformat": 4,
 "nbformat_minor": 2
}
